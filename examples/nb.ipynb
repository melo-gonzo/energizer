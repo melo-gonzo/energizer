{
 "cells": [
  {
   "cell_type": "code",
   "execution_count": 1,
   "metadata": {},
   "outputs": [],
   "source": [
    "%load_ext autoreload\n",
    "%autoreload 2\n",
    "\n",
    "import sys\n",
    "\n",
    "sys.path.append(\"..\")\n",
    "import warnings\n",
    "\n",
    "warnings.filterwarnings('ignore')\n",
    "import numpy as np\n",
    "import torch\n",
    "import torch.special as sp\n",
    "from datasets import load_dataset\n",
    "from pytorch_lightning import LightningModule, Trainer, seed_everything\n",
    "from pytorch_lightning.callbacks import Callback\n",
    "from torch.utils.data import DataLoader, Dataset\n",
    "from transformers import AutoModelForSequenceClassification, AutoTokenizer, DataCollatorWithPadding\n",
    "\n",
    "from energizer.data import ActiveDataModule, ActiveDataset\n",
    "from energizer.inference import Deterministic\n",
    "from energizer.inference.utils import Dropout, Dropout2d, local_seed, patch_dropout_layers\n",
    "from energizer.loops import ActiveLearningLoop\n",
    "from energizer.strategies import LeastConfidenceStrategy, RandomStrategy"
   ]
  },
  {
   "cell_type": "code",
   "execution_count": 2,
   "metadata": {},
   "outputs": [
    {
     "name": "stderr",
     "output_type": "stream",
     "text": [
      "Reusing dataset ag_news (/Users/pietrolesci/.cache/huggingface/datasets/pietrolesci___ag_news/concat/1.0.0/5ee6e111adc7a901ca734b79fbebff09d9dba91722387a794efff8d9c178a6a3)\n",
      "100%|██████████| 2/2 [00:00<00:00, 513.60it/s]\n",
      "Loading cached processed dataset at /Users/pietrolesci/.cache/huggingface/datasets/pietrolesci___ag_news/concat/1.0.0/5ee6e111adc7a901ca734b79fbebff09d9dba91722387a794efff8d9c178a6a3/cache-000bee98bdbc4cf0.arrow\n",
      "Loading cached processed dataset at /Users/pietrolesci/.cache/huggingface/datasets/pietrolesci___ag_news/concat/1.0.0/5ee6e111adc7a901ca734b79fbebff09d9dba91722387a794efff8d9c178a6a3/cache-2492e1c9d423a80c.arrow\n"
     ]
    }
   ],
   "source": [
    "tokenizer = AutoTokenizer.from_pretrained(\"prajjwal1/bert-tiny\")\n",
    "ds = load_dataset(\"pietrolesci/ag_news\", name=\"concat\")\n",
    "ds = ds.map(lambda ex: tokenizer(ex[\"text\"], return_token_type_ids=False), batched=True)\n",
    "ds = ds.with_format(columns=[\"input_ids\", \"attention_mask\", \"label\"])"
   ]
  },
  {
   "cell_type": "code",
   "execution_count": 3,
   "metadata": {},
   "outputs": [],
   "source": [
    "class Model(LightningModule):\n",
    "    def __init__(self):\n",
    "        super().__init__()\n",
    "        self.backbone = AutoModelForSequenceClassification.from_pretrained(\"prajjwal1/bert-tiny\", num_labels=4)\n",
    "        self.loss = torch.nn.CrossEntropyLoss()\n",
    "\n",
    "    def forward(self, batch):\n",
    "        return self.backbone(**batch).logits\n",
    "\n",
    "    def step(self, batch, *args, **kwargs):\n",
    "        y = batch.pop(\"labels\")\n",
    "        y_hat = self(batch)\n",
    "        return self.loss(y_hat, y)\n",
    "\n",
    "    def training_step(self, batch, *args, **kwargs):\n",
    "        # self.print(\"TRAIN\")\n",
    "        loss = self.step(batch, *args, **kwargs)\n",
    "        self.log(\"train_loss\", loss, on_epoch=True, on_step=True, prog_bar=True)\n",
    "        return loss\n",
    "\n",
    "    def validation_step(self, batch, *args, **kwargs):\n",
    "        # self.print(\"VAL\")\n",
    "        loss = self.step(batch, *args, **kwargs)\n",
    "        self.log(\"val_loss\", loss, on_epoch=True, on_step=False, prog_bar=True)\n",
    "\n",
    "    def test_step(self, batch, *args, **kwargs):\n",
    "        # self.print(\"TEST\")\n",
    "        loss = self.step(batch, *args, **kwargs)\n",
    "        self.log(\"test_loss\", loss, on_epoch=True, on_step=False, prog_bar=True)\n",
    "        return loss\n",
    "\n",
    "    def test_step_end(self, outputs):\n",
    "        self.print(outputs)\n",
    "\n",
    "    def predict_step(self, batch, *args, **kwargs):\n",
    "        # self.print(\"PREDICT\")\n",
    "        return self(batch)\n",
    "\n",
    "    def configure_optimizers(self):\n",
    "        return torch.optim.SGD(self.parameters(), lr=0.01)\n",
    "\n",
    "\n",
    "class ActiveLearninigCallback(Callback):\n",
    "    def __init__(self):\n",
    "        super().__init__()\n",
    "\n",
    "    def on_pool_batch_end(self, *args, **kwargs):\n",
    "        print(\"FROM THE CALLBACK\")"
   ]
  },
  {
   "cell_type": "code",
   "execution_count": 4,
   "metadata": {},
   "outputs": [],
   "source": [
    "def get_dm():\n",
    "    train_ds = ds[\"train\"].select(list(range(100)))\n",
    "    return ActiveDataModule(\n",
    "        num_classes=4,\n",
    "        train_dataset=train_ds,\n",
    "        # val_dataset=ds[\"test\"],\n",
    "        initial_labels=np.random.choice(list(range(len(train_ds))), size=4, replace=False).tolist(),\n",
    "        val_split=0.5,\n",
    "        test_dataset=ds[\"test\"].select(range(5)),\n",
    "        # predict_dataset=ds[\"test\"].select(range(15)),\n",
    "        batch_size=32,\n",
    "        seed=42,\n",
    "        collate_fn=DataCollatorWithPadding(tokenizer),\n",
    "    )"
   ]
  },
  {
   "cell_type": "code",
   "execution_count": 12,
   "metadata": {},
   "outputs": [
    {
     "name": "stderr",
     "output_type": "stream",
     "text": [
      "Global seed set to 1111\n"
     ]
    },
    {
     "name": "stdout",
     "output_type": "stream",
     "text": [
      "Validation dataset is not specfied and `val_split == 0.5`, therefore at each training step 0.5 of the labelled data will be added to the validation dataset.\n"
     ]
    },
    {
     "name": "stderr",
     "output_type": "stream",
     "text": [
      "Some weights of the model checkpoint at prajjwal1/bert-tiny were not used when initializing BertForSequenceClassification: ['cls.predictions.transform.dense.weight', 'cls.predictions.decoder.weight', 'cls.predictions.decoder.bias', 'cls.seq_relationship.weight', 'cls.predictions.transform.LayerNorm.bias', 'cls.predictions.transform.LayerNorm.weight', 'cls.predictions.transform.dense.bias', 'cls.predictions.bias', 'cls.seq_relationship.bias']\n",
      "- This IS expected if you are initializing BertForSequenceClassification from the checkpoint of a model trained on another task or with another architecture (e.g. initializing a BertForSequenceClassification model from a BertForPreTraining model).\n",
      "- This IS NOT expected if you are initializing BertForSequenceClassification from the checkpoint of a model that you expect to be exactly identical (initializing a BertForSequenceClassification model from a BertForSequenceClassification model).\n",
      "Some weights of BertForSequenceClassification were not initialized from the model checkpoint at prajjwal1/bert-tiny and are newly initialized: ['classifier.weight', 'classifier.bias']\n",
      "You should probably TRAIN this model on a down-stream task to be able to use it for predictions and inference.\n",
      "GPU available: False, used: False\n",
      "TPU available: False, using: 0 TPU cores\n",
      "IPU available: False, using: 0 IPUs\n",
      "\n",
      "  | Name     | Type                          | Params\n",
      "-----------------------------------------------------------\n",
      "0 | backbone | BertForSequenceClassification | 4.4 M \n",
      "1 | loss     | CrossEntropyLoss              | 0     \n",
      "-----------------------------------------------------------\n",
      "4.4 M     Trainable params\n",
      "0         Non-trainable params\n",
      "4.4 M     Total params\n",
      "17.546    Total estimated model params size (MB)\n"
     ]
    },
    {
     "name": "stdout",
     "output_type": "stream",
     "text": [
      "                                                              "
     ]
    },
    {
     "name": "stderr",
     "output_type": "stream",
     "text": [
      "Global seed set to 1111\n"
     ]
    },
    {
     "name": "stdout",
     "output_type": "stream",
     "text": [
      "\n",
      "EPOCH\n",
      "Active learning dataset: ActiveDataset({\n",
      "    original_dataset_size: 100,\n",
      "    train_size: 2,\n",
      "    val_size: 2,\n",
      "    pool_size: 96,\n",
      "    base_class: <class 'datasets.arrow_dataset.Dataset'>,\n",
      "})\n",
      "Epoch 0: 100%|██████████| 2/2 [00:00<00:00, 19.08it/s, loss=1.44, v_num=8, train_loss_step=1.440, val_loss=1.250, train_loss_epoch=1.440]\n",
      "tensor(1.4916)                                \n",
      "Testing:   0%|          | 0/1 [00:00<?, ?it/s]--------------------------------------------------------------------------------\n",
      "DATALOADER:0 TEST RESULTS\n",
      "{'test_loss': 1.4916354417800903}\n",
      "--------------------------------------------------------------------------------\n",
      "Testing: 100%|██████████| 1/1 [00:00<00:00, 45.03it/s]\n",
      "Testing: 0it [00:00, ?it/s]FROM THE CALLBACK\n",
      "FROM THE CALLBACK\n",
      "FROM THE CALLBACK\n",
      "--------------------------------------------------------------------------------\n",
      "DATALOADER:0 TEST RESULTS\n",
      "{}\n",
      "--------------------------------------------------------------------------------\n",
      "Testing: 100%|██████████| 3/3 [00:00<00:00, 105.92it/s]\n",
      "\n",
      "EPOCH\n",
      "Active learning dataset: ActiveDataset({\n",
      "    original_dataset_size: 100,\n",
      "    train_size: 3,\n",
      "    val_size: 3,\n",
      "    pool_size: 94,\n",
      "    base_class: <class 'datasets.arrow_dataset.Dataset'>,\n",
      "})\n",
      "Epoch 0: 100%|██████████| 2/2 [00:00<00:00, 33.88it/s, loss=1.39, v_num=8, train_loss_step=1.340, val_loss=1.160, train_loss_epoch=1.340, test_loss=1.490]\n",
      "tensor(1.1578)                                \n",
      "Testing:   0%|          | 0/1 [00:00<?, ?it/s]--------------------------------------------------------------------------------\n",
      "DATALOADER:0 TEST RESULTS\n",
      "{'test_loss': 1.1578363180160522}\n",
      "--------------------------------------------------------------------------------\n",
      "Testing: 100%|██████████| 1/1 [00:00<00:00, 44.88it/s]\n",
      "Testing: 0it [00:00, ?it/s]FROM THE CALLBACK\n",
      "FROM THE CALLBACK\n",
      "FROM THE CALLBACK\n",
      "--------------------------------------------------------------------------------\n",
      "DATALOADER:0 TEST RESULTS\n",
      "{}\n",
      "--------------------------------------------------------------------------------\n",
      "Testing: 100%|██████████| 3/3 [00:00<00:00, 108.00it/s]\n",
      "\n",
      "EPOCH\n",
      "Active learning dataset: ActiveDataset({\n",
      "    original_dataset_size: 100,\n",
      "    train_size: 4,\n",
      "    val_size: 4,\n",
      "    pool_size: 92,\n",
      "    base_class: <class 'datasets.arrow_dataset.Dataset'>,\n",
      "})\n",
      "Epoch 0: 100%|██████████| 2/2 [00:00<00:00, 31.64it/s, loss=1.4, v_num=8, train_loss_step=1.430, val_loss=1.180, train_loss_epoch=1.430, test_loss=1.160]\n",
      "tensor(1.0871)                                \n",
      "Testing:   0%|          | 0/1 [00:00<?, ?it/s]--------------------------------------------------------------------------------\n",
      "DATALOADER:0 TEST RESULTS\n",
      "{'test_loss': 1.0871187448501587}\n",
      "--------------------------------------------------------------------------------\n",
      "Testing: 100%|██████████| 1/1 [00:00<00:00, 45.71it/s]\n",
      "Testing: 0it [00:00, ?it/s]FROM THE CALLBACK\n",
      "FROM THE CALLBACK\n",
      "FROM THE CALLBACK\n",
      "--------------------------------------------------------------------------------\n",
      "DATALOADER:0 TEST RESULTS\n",
      "{}\n",
      "--------------------------------------------------------------------------------\n",
      "Testing: 100%|██████████| 3/3 [00:00<00:00, 110.04it/s]\n",
      "\n",
      "EPOCH\n",
      "Active learning dataset: ActiveDataset({\n",
      "    original_dataset_size: 100,\n",
      "    train_size: 5,\n",
      "    val_size: 5,\n",
      "    pool_size: 90,\n",
      "    base_class: <class 'datasets.arrow_dataset.Dataset'>,\n",
      "})\n"
     ]
    }
   ],
   "source": [
    "seed_everything(1111)\n",
    "dm = get_dm()\n",
    "model = Model()\n",
    "trainer = Trainer(\n",
    "    max_epochs=100,\n",
    "    # enable_progress_bar=False,\n",
    "    # enable_model_summary=None,\n",
    "    callbacks=ActiveLearninigCallback(),\n",
    ")\n",
    "active_learning_loop = ActiveLearningLoop(\n",
    "    strategy=RandomStrategy(),  # LeastConfidenceStrategy(inference_module=Deterministic()),\n",
    "    query_size=2,\n",
    "    total_budget=10,\n",
    ")\n",
    "active_learning_loop.connect(trainer)\n",
    "trainer.fit_loop = active_learning_loop\n",
    "trainer.fit(model, datamodule=dm)"
   ]
  },
  {
   "cell_type": "code",
   "execution_count": null,
   "metadata": {},
   "outputs": [],
   "source": []
  }
 ],
 "metadata": {
  "interpreter": {
   "hash": "195fd7177374df90e8fb0ddf6905c3c94c4a4300f1cc015456754f40bbdfd90b"
  },
  "kernelspec": {
   "display_name": "Python 3.7.11 64-bit ('energizer-dev': conda)",
   "language": "python",
   "name": "python3"
  },
  "language_info": {
   "codemirror_mode": {
    "name": "ipython",
    "version": 3
   },
   "file_extension": ".py",
   "mimetype": "text/x-python",
   "name": "python",
   "nbconvert_exporter": "python",
   "pygments_lexer": "ipython3",
   "version": "3.7.11"
  },
  "orig_nbformat": 4
 },
 "nbformat": 4,
 "nbformat_minor": 2
}
