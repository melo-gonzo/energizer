{
 "cells": [
  {
   "cell_type": "code",
   "execution_count": 1,
   "metadata": {},
   "outputs": [],
   "source": [
    "%load_ext autoreload\n",
    "%autoreload 2\n",
    "\n",
    "import sys\n",
    "sys.path.append(\"..\")\n",
    "import torch\n",
    "import torch.special as sp\n",
    "from torch.utils.data import Dataset\n",
    "from datasets import load_dataset\n",
    "from energizer.data import ActiveDataset, ActiveDataModule\n",
    "import numpy as np\n",
    "from transformers import AutoTokenizer, DataCollatorWithPadding"
   ]
  },
  {
   "cell_type": "code",
   "execution_count": 2,
   "metadata": {},
   "outputs": [],
   "source": [
    "tokenizer = AutoTokenizer.from_pretrained(\"bert-base-uncased\")"
   ]
  },
  {
   "cell_type": "code",
   "execution_count": 3,
   "metadata": {},
   "outputs": [
    {
     "name": "stderr",
     "output_type": "stream",
     "text": [
      "Reusing dataset ag_news (/Users/pietrolesci/.cache/huggingface/datasets/pietrolesci___ag_news/concat/1.0.0/5ee6e111adc7a901ca734b79fbebff09d9dba91722387a794efff8d9c178a6a3)\n",
      "100%|██████████| 2/2 [00:00<00:00, 136.63it/s]\n"
     ]
    }
   ],
   "source": [
    "ds = load_dataset(\"pietrolesci/ag_news\", name=\"concat\")"
   ]
  },
  {
   "cell_type": "code",
   "execution_count": 4,
   "metadata": {},
   "outputs": [
    {
     "name": "stderr",
     "output_type": "stream",
     "text": [
      "Loading cached processed dataset at /Users/pietrolesci/.cache/huggingface/datasets/pietrolesci___ag_news/concat/1.0.0/5ee6e111adc7a901ca734b79fbebff09d9dba91722387a794efff8d9c178a6a3/cache-b54342625c18b8be.arrow\n",
      "Loading cached processed dataset at /Users/pietrolesci/.cache/huggingface/datasets/pietrolesci___ag_news/concat/1.0.0/5ee6e111adc7a901ca734b79fbebff09d9dba91722387a794efff8d9c178a6a3/cache-6c0037a17af54a3c.arrow\n"
     ]
    }
   ],
   "source": [
    "ds = ds.map(lambda ex: tokenizer(ex[\"text\"], return_token_type_ids=False), batched=True)"
   ]
  },
  {
   "cell_type": "code",
   "execution_count": 5,
   "metadata": {},
   "outputs": [],
   "source": [
    "ds = ds.with_format(columns=[\"input_ids\", \"attention_mask\"])"
   ]
  },
  {
   "cell_type": "code",
   "execution_count": 19,
   "metadata": {},
   "outputs": [
    {
     "name": "stdout",
     "output_type": "stream",
     "text": [
      "Validation dataset is not specfied and `val_split == 0.3`, therefore at each training step 0.3 of the labelled data will be added to the validation dataset.\n"
     ]
    }
   ],
   "source": [
    "dm = ActiveDataModule(\n",
    "    num_classes=2,\n",
    "    train_dataset=ds[\"train\"],\n",
    "    # val_dataset=ds[\"test\"],\n",
    "    initial_labels=np.random.choice(list(range(len(ds[\"train\"]))), size=10, replace=False).tolist(),\n",
    "    min_steps_per_epoch=10,\n",
    "    val_split=0.3,\n",
    "    test_dataset=ds[\"test\"],\n",
    "    batch_size=1,\n",
    "    seed=42,\n",
    "    collate_fn=DataCollatorWithPadding(tokenizer),\n",
    ")"
   ]
  },
  {
   "cell_type": "code",
   "execution_count": 20,
   "metadata": {},
   "outputs": [
    {
     "data": {
      "text/plain": [
       "{'attention_mask': tensor([[1, 1, 1, 1, 1, 1, 1, 1, 1, 1, 1, 1, 1, 1, 1, 1, 1, 1, 1, 1, 1, 1, 1, 1,\n",
       "         1, 1, 1, 1, 1, 1, 1, 1, 1, 1, 1, 1, 1, 1, 1, 1, 1, 1, 1, 1, 1]]), 'input_ids': tensor([[  101,  6034, 12702,  5428,  4523,  2202,  1996,  3684,  2887,  6529,\n",
       "          2360,  2027,  2031, 26176,  2028,  1997,  1996,  2197, 28750,  1997,\n",
       "         20681,  2974,  1010, 10058,  2073,  4816,  5733,  2031,  2000,  2448,\n",
       "          2012,  2152,  2373,  1010,  1999,  9205,  3684,  2030,  2012, 12765,\n",
       "         21656,  1997,  8249,  1012,   102]])}"
      ]
     },
     "execution_count": 20,
     "metadata": {},
     "output_type": "execute_result"
    }
   ],
   "source": [
    "next(iter(dm.train_dataloader()))"
   ]
  },
  {
   "cell_type": "code",
   "execution_count": 21,
   "metadata": {},
   "outputs": [
    {
     "data": {
      "text/plain": [
       "{'attention_mask': tensor([[1, 1, 1, 1, 1, 1, 1, 1, 1, 1, 1, 1, 1, 1, 1, 1, 1, 1, 1, 1, 1, 1, 1, 1,\n",
       "         1, 1, 1, 1, 1, 1, 1, 1, 1, 1, 1, 1, 1, 1, 1, 1, 1, 1, 1, 1, 1, 1, 1, 1]]), 'input_ids': tensor([[  101, 11418, 10299,  1996,  2395,  1999,  1053,  2475,  1010, 11139,\n",
       "          1996,  3347,  2470,  1999,  4367,  5183,  1012,  1010,  9338,  1997,\n",
       "          1996,  2759, 25935,  1041,  1011,  5653,  5080,  1010,  5632,  1037,\n",
       "          2844,  2117,  4284,  1998,  2039,  5669,  2049, 10908,  9432,  2005,\n",
       "          1996,  6893,  1997,  2049, 10807,  2095,  1012,   102]])}"
      ]
     },
     "execution_count": 21,
     "metadata": {},
     "output_type": "execute_result"
    }
   ],
   "source": [
    "next(iter(dm.val_dataloader()))"
   ]
  },
  {
   "cell_type": "code",
   "execution_count": 22,
   "metadata": {},
   "outputs": [
    {
     "data": {
      "text/plain": [
       "{'attention_mask': tensor([[1, 1, 1, 1, 1, 1, 1, 1, 1, 1, 1, 1, 1, 1, 1, 1, 1, 1, 1, 1, 1, 1, 1, 1,\n",
       "         1, 1, 1, 1, 1, 1, 1, 1]]), 'input_ids': tensor([[  101, 10069,  2005,  1056,  1050, 11550,  2044,  7566,  9209,  5052,\n",
       "          3667,  2012,  6769,  2047,  8095,  2360,  2027,  2024,  1005,  9364,\n",
       "          1005,  2044,  7566,  2007, 16654,  6687,  3813,  2976,  9587, 24848,\n",
       "          1012,   102]])}"
      ]
     },
     "execution_count": 22,
     "metadata": {},
     "output_type": "execute_result"
    }
   ],
   "source": [
    "next(iter(dm.test_dataloader()))"
   ]
  },
  {
   "cell_type": "code",
   "execution_count": null,
   "metadata": {},
   "outputs": [],
   "source": []
  }
 ],
 "metadata": {
  "interpreter": {
   "hash": "195fd7177374df90e8fb0ddf6905c3c94c4a4300f1cc015456754f40bbdfd90b"
  },
  "kernelspec": {
   "display_name": "Python 3.7.11 64-bit ('energizer-dev': conda)",
   "language": "python",
   "name": "python3"
  },
  "language_info": {
   "codemirror_mode": {
    "name": "ipython",
    "version": 3
   },
   "file_extension": ".py",
   "mimetype": "text/x-python",
   "name": "python",
   "nbconvert_exporter": "python",
   "pygments_lexer": "ipython3",
   "version": "3.7.11"
  },
  "orig_nbformat": 4
 },
 "nbformat": 4,
 "nbformat_minor": 2
}
